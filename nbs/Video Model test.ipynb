{
 "cells": [
  {
   "cell_type": "code",
   "execution_count": 2,
   "metadata": {},
   "outputs": [
    {
     "name": "stdout",
     "output_type": "stream",
     "text": [
      "c:\\Users\\sathish.t\\OneDrive - iLink Systems Inc\\Desktop\\My Codes\\FastAPI videomembership\\VideoMembership\n"
     ]
    }
   ],
   "source": [
    "%cd .."
   ]
  },
  {
   "cell_type": "code",
   "execution_count": 1,
   "metadata": {},
   "outputs": [
    {
     "name": "stdout",
     "output_type": "stream",
     "text": [
      "c:\\Users\\sathish.t\\OneDrive - iLink Systems Inc\\Desktop\\My Codes\\FastAPI videomembership\\VideoMembership\\nbs\n"
     ]
    }
   ],
   "source": [
    "!cd"
   ]
  },
  {
   "cell_type": "code",
   "execution_count": 3,
   "metadata": {},
   "outputs": [],
   "source": [
    "from app.videos.models import Video #noqa\n",
    "from app.users.models import User #noqa\n",
    "from app import db\n",
    "from cassandra.cqlengine.management import sync_table"
   ]
  },
  {
   "cell_type": "code",
   "execution_count": 4,
   "metadata": {},
   "outputs": [],
   "source": [
    "db.get_session()\n",
    "sync_table(User)\n",
    "sync_table(Video)"
   ]
  },
  {
   "cell_type": "code",
   "execution_count": 5,
   "metadata": {},
   "outputs": [],
   "source": [
    "url = \"https://www.youtube.com/watch?v=yJg-Y5byMMw\""
   ]
  },
  {
   "cell_type": "code",
   "execution_count": 6,
   "metadata": {},
   "outputs": [],
   "source": [
    "user_obj = User.objects.get(email=\"abc123@gmail.com\")\n",
    "user_id = user_obj.user_id"
   ]
  },
  {
   "cell_type": "code",
   "execution_count": 7,
   "metadata": {},
   "outputs": [
    {
     "ename": "VideoAddedException",
     "evalue": "",
     "output_type": "error",
     "traceback": [
      "\u001b[1;31m---------------------------------------------------------------------------\u001b[0m",
      "\u001b[1;31mVideoAddedException\u001b[0m                       Traceback (most recent call last)",
      "\u001b[1;32mc:\\Users\\sathish.t\\OneDrive - iLink Systems Inc\\Desktop\\My Codes\\FastAPI videomembership\\VideoMembership\\nbs\\Video Model test.ipynb Cell 7\u001b[0m in \u001b[0;36m<cell line: 1>\u001b[1;34m()\u001b[0m\n\u001b[1;32m----> <a href='vscode-notebook-cell:/c%3A/Users/sathish.t/OneDrive%20-%20iLink%20Systems%20Inc/Desktop/My%20Codes/FastAPI%20videomembership/VideoMembership/nbs/Video%20Model%20test.ipynb#ch0000005?line=0'>1</a>\u001b[0m obj \u001b[39m=\u001b[39m Video\u001b[39m.\u001b[39;49madd_video(url, user_id)\n",
      "File \u001b[1;32mc:\\Users\\sathish.t\\OneDrive - iLink Systems Inc\\Desktop\\My Codes\\FastAPI videomembership\\VideoMembership\\app\\videos\\models.py:47\u001b[0m, in \u001b[0;36mVideo.add_video\u001b[1;34m(url, user_id)\u001b[0m\n\u001b[0;32m     44\u001b[0m q \u001b[39m=\u001b[39m Video\u001b[39m.\u001b[39mobjects\u001b[39m.\u001b[39mallow_filtering()\u001b[39m.\u001b[39mfilter(host_id \u001b[39m=\u001b[39m host_id, user_id\u001b[39m=\u001b[39muser_id)\n\u001b[0;32m     46\u001b[0m \u001b[39mif\u001b[39;00m q\u001b[39m.\u001b[39mcount() \u001b[39m!=\u001b[39m \u001b[39m0\u001b[39m:\n\u001b[1;32m---> 47\u001b[0m     \u001b[39mraise\u001b[39;00m VideoAddedException\n\u001b[0;32m     49\u001b[0m \u001b[39mreturn\u001b[39;00m Video\u001b[39m.\u001b[39mcreate(host_id\u001b[39m=\u001b[39mhost_id, user_id\u001b[39m=\u001b[39muser_id,url\u001b[39m=\u001b[39murl)\n",
      "\u001b[1;31mVideoAddedException\u001b[0m: "
     ]
    }
   ],
   "source": [
    "obj = Video.add_video(url, user_id)"
   ]
  },
  {
   "cell_type": "code",
   "execution_count": 10,
   "metadata": {},
   "outputs": [
    {
     "name": "stdout",
     "output_type": "stream",
     "text": [
      "Video(host_id=yJg-Y5byMMw, host_service=youtube)\n",
      "Video(host_id=Xy7TeCdNp6k, host_service=youtube)\n",
      "Video(host_id=__CRWE-L45k, host_service=youtube)\n"
     ]
    }
   ],
   "source": [
    "q = Video.objects.all()\n",
    "for oj in q:\n",
    "    print(oj)"
   ]
  },
  {
   "cell_type": "code",
   "execution_count": null,
   "metadata": {},
   "outputs": [],
   "source": []
  }
 ],
 "metadata": {
  "kernelspec": {
   "display_name": "Python 3.9.0 ('membership': venv)",
   "language": "python",
   "name": "python3"
  },
  "language_info": {
   "codemirror_mode": {
    "name": "ipython",
    "version": 3
   },
   "file_extension": ".py",
   "mimetype": "text/x-python",
   "name": "python",
   "nbconvert_exporter": "python",
   "pygments_lexer": "ipython3",
   "version": "3.9.0"
  },
  "orig_nbformat": 4,
  "vscode": {
   "interpreter": {
    "hash": "fd8d1d8935d9efd31c4537b1f80abf4853f2b0dae65cb7217dca784f39ae3ae1"
   }
  }
 },
 "nbformat": 4,
 "nbformat_minor": 2
}
