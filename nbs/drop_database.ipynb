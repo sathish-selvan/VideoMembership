{
 "cells": [
  {
   "cell_type": "code",
   "execution_count": 1,
   "id": "0028f3ce",
   "metadata": {},
   "outputs": [
    {
     "name": "stdout",
     "output_type": "stream",
     "text": [
      "c:\\Users\\sathish.t\\OneDrive - iLink Systems Inc\\Desktop\\My Codes\\FastAPI videomembership\\VideoMembership\\nbs\n"
     ]
    }
   ],
   "source": [
    "!cd"
   ]
  },
  {
   "cell_type": "code",
   "execution_count": 2,
   "id": "3a2ecff7",
   "metadata": {},
   "outputs": [
    {
     "name": "stdout",
     "output_type": "stream",
     "text": [
      "c:\\Users\\sathish.t\\OneDrive - iLink Systems Inc\\Desktop\\My Codes\\FastAPI videomembership\\VideoMembership\n"
     ]
    }
   ],
   "source": [
    "%cd .."
   ]
  },
  {
   "cell_type": "code",
   "execution_count": 3,
   "id": "b761f317",
   "metadata": {},
   "outputs": [
    {
     "name": "stdout",
     "output_type": "stream",
     "text": [
      "c:\\Users\\sathish.t\\OneDrive - iLink Systems Inc\\Desktop\\My Codes\\FastAPI videomembership\\VideoMembership\n"
     ]
    }
   ],
   "source": [
    "!cd"
   ]
  },
  {
   "cell_type": "code",
   "execution_count": 15,
   "id": "55f40f33",
   "metadata": {},
   "outputs": [],
   "source": [
    "\n",
    "from app import db, config\n",
    "from app.watch_event.models import WatchEvent"
   ]
  },
  {
   "cell_type": "code",
   "execution_count": 20,
   "id": "a5270daf",
   "metadata": {},
   "outputs": [],
   "source": [
    "session = db.get_session()\n"
   ]
  },
  {
   "cell_type": "code",
   "execution_count": 21,
   "id": "442c2e52",
   "metadata": {},
   "outputs": [],
   "source": [
    "settings = config.get_settings()"
   ]
  },
  {
   "cell_type": "code",
   "execution_count": 22,
   "id": "80ec78b8",
   "metadata": {},
   "outputs": [],
   "source": [
    "keyspace = settings.keyspace"
   ]
  },
  {
   "cell_type": "code",
   "execution_count": 25,
   "id": "cd196426",
   "metadata": {},
   "outputs": [
    {
     "name": "stdout",
     "output_type": "stream",
     "text": [
      "22.309364\n",
      "21.02409913923645\n",
      "15.00436801525879\n"
     ]
    }
   ],
   "source": [
    "q = WatchEvent.objects.all()\n",
    "for i in q:\n",
    "    print(i.end_time)"
   ]
  },
  {
   "cell_type": "code",
   "execution_count": 12,
   "id": "e3940f88",
   "metadata": {},
   "outputs": [],
   "source": [
    "model_name = 'watch_event'"
   ]
  },
  {
   "cell_type": "code",
   "execution_count": 13,
   "id": "d512d52b",
   "metadata": {},
   "outputs": [],
   "source": [
    "cmd = f'DROP TABLE IF EXISTS {keyspace}.{model_name}'"
   ]
  },
  {
   "cell_type": "code",
   "execution_count": 19,
   "id": "0eba2f2c",
   "metadata": {},
   "outputs": [
    {
     "ename": "OperationTimedOut",
     "evalue": "errors={'a00fbf88-0561-453f-8c56-4248ad7bc6e2-asia-south1.db.astra.datastax.com:29042:fd28317f-ff5d-405b-b0fa-e4a9183a6380': 'Client request timeout. See Session.execute[_async](timeout)'}, last_host=a00fbf88-0561-453f-8c56-4248ad7bc6e2-asia-south1.db.astra.datastax.com:29042:fd28317f-ff5d-405b-b0fa-e4a9183a6380",
     "output_type": "error",
     "traceback": [
      "\u001b[1;31m---------------------------------------------------------------------------\u001b[0m",
      "\u001b[1;31mOperationTimedOut\u001b[0m                         Traceback (most recent call last)",
      "\u001b[1;32mc:\\Users\\sathish.t\\OneDrive - iLink Systems Inc\\Desktop\\My Codes\\FastAPI videomembership\\VideoMembership\\nbs\\drop_database.ipynb Cell 11\u001b[0m in \u001b[0;36m<cell line: 1>\u001b[1;34m()\u001b[0m\n\u001b[1;32m----> <a href='vscode-notebook-cell:/c%3A/Users/sathish.t/OneDrive%20-%20iLink%20Systems%20Inc/Desktop/My%20Codes/FastAPI%20videomembership/VideoMembership/nbs/drop_database.ipynb#X35sZmlsZQ%3D%3D?line=0'>1</a>\u001b[0m session\u001b[39m.\u001b[39;49mexecute(cmd)\n",
      "File \u001b[1;32mc:\\Users\\sathish.t\\OneDrive - iLink Systems Inc\\Desktop\\My Codes\\FastAPI videomembership\\VideoMembership\\membership\\lib\\site-packages\\cassandra\\cluster.py:2618\u001b[0m, in \u001b[0;36mSession.execute\u001b[1;34m(self, query, parameters, timeout, trace, custom_payload, execution_profile, paging_state, host, execute_as)\u001b[0m\n\u001b[0;32m   2575\u001b[0m \u001b[39mdef\u001b[39;00m \u001b[39mexecute\u001b[39m(\u001b[39mself\u001b[39m, query, parameters\u001b[39m=\u001b[39m\u001b[39mNone\u001b[39;00m, timeout\u001b[39m=\u001b[39m_NOT_SET, trace\u001b[39m=\u001b[39m\u001b[39mFalse\u001b[39;00m,\n\u001b[0;32m   2576\u001b[0m             custom_payload\u001b[39m=\u001b[39m\u001b[39mNone\u001b[39;00m, execution_profile\u001b[39m=\u001b[39mEXEC_PROFILE_DEFAULT,\n\u001b[0;32m   2577\u001b[0m             paging_state\u001b[39m=\u001b[39m\u001b[39mNone\u001b[39;00m, host\u001b[39m=\u001b[39m\u001b[39mNone\u001b[39;00m, execute_as\u001b[39m=\u001b[39m\u001b[39mNone\u001b[39;00m):\n\u001b[0;32m   2578\u001b[0m     \u001b[39m\"\"\"\u001b[39;00m\n\u001b[0;32m   2579\u001b[0m \u001b[39m    Execute the given query and synchronously wait for the response.\u001b[39;00m\n\u001b[0;32m   2580\u001b[0m \n\u001b[1;32m   (...)\u001b[0m\n\u001b[0;32m   2615\u001b[0m \u001b[39m    on a DSE cluster.\u001b[39;00m\n\u001b[0;32m   2616\u001b[0m \u001b[39m    \"\"\"\u001b[39;00m\n\u001b[1;32m-> 2618\u001b[0m     \u001b[39mreturn\u001b[39;00m \u001b[39mself\u001b[39;49m\u001b[39m.\u001b[39;49mexecute_async(query, parameters, trace, custom_payload, timeout, execution_profile, paging_state, host, execute_as)\u001b[39m.\u001b[39;49mresult()\n",
      "File \u001b[1;32mc:\\Users\\sathish.t\\OneDrive - iLink Systems Inc\\Desktop\\My Codes\\FastAPI videomembership\\VideoMembership\\membership\\lib\\site-packages\\cassandra\\cluster.py:4894\u001b[0m, in \u001b[0;36mResponseFuture.result\u001b[1;34m(self)\u001b[0m\n\u001b[0;32m   4892\u001b[0m     \u001b[39mreturn\u001b[39;00m ResultSet(\u001b[39mself\u001b[39m, \u001b[39mself\u001b[39m\u001b[39m.\u001b[39m_final_result)\n\u001b[0;32m   4893\u001b[0m \u001b[39melse\u001b[39;00m:\n\u001b[1;32m-> 4894\u001b[0m     \u001b[39mraise\u001b[39;00m \u001b[39mself\u001b[39m\u001b[39m.\u001b[39m_final_exception\n",
      "\u001b[1;31mOperationTimedOut\u001b[0m: errors={'a00fbf88-0561-453f-8c56-4248ad7bc6e2-asia-south1.db.astra.datastax.com:29042:fd28317f-ff5d-405b-b0fa-e4a9183a6380': 'Client request timeout. See Session.execute[_async](timeout)'}, last_host=a00fbf88-0561-453f-8c56-4248ad7bc6e2-asia-south1.db.astra.datastax.com:29042:fd28317f-ff5d-405b-b0fa-e4a9183a6380"
     ]
    }
   ],
   "source": [
    "session.execute(cmd)"
   ]
  },
  {
   "cell_type": "code",
   "execution_count": null,
   "id": "c048361b",
   "metadata": {},
   "outputs": [],
   "source": []
  },
  {
   "cell_type": "code",
   "execution_count": null,
   "id": "34d5ccc9",
   "metadata": {},
   "outputs": [],
   "source": []
  },
  {
   "cell_type": "code",
   "execution_count": null,
   "id": "1bc00511",
   "metadata": {},
   "outputs": [],
   "source": []
  }
 ],
 "metadata": {
  "kernelspec": {
   "display_name": "Python 3.9.0 ('membership': venv)",
   "language": "python",
   "name": "python3"
  },
  "language_info": {
   "codemirror_mode": {
    "name": "ipython",
    "version": 3
   },
   "file_extension": ".py",
   "mimetype": "text/x-python",
   "name": "python",
   "nbconvert_exporter": "python",
   "pygments_lexer": "ipython3",
   "version": "3.9.0"
  },
  "vscode": {
   "interpreter": {
    "hash": "fd8d1d8935d9efd31c4537b1f80abf4853f2b0dae65cb7217dca784f39ae3ae1"
   }
  }
 },
 "nbformat": 4,
 "nbformat_minor": 5
}
