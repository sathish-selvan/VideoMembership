{
 "cells": [
  {
   "cell_type": "code",
   "execution_count": 1,
   "metadata": {},
   "outputs": [
    {
     "name": "stdout",
     "output_type": "stream",
     "text": [
      "c:\\Users\\sathish.t\\OneDrive - iLink Systems Inc\\Desktop\\My Codes\\FastAPI videomembership\\VideoMembership\n"
     ]
    }
   ],
   "source": [
    "%cd .."
   ]
  },
  {
   "cell_type": "code",
   "execution_count": 2,
   "metadata": {},
   "outputs": [
    {
     "name": "stdout",
     "output_type": "stream",
     "text": [
      "c:\\Users\\sathish.t\\OneDrive - iLink Systems Inc\\Desktop\\My Codes\\FastAPI videomembership\\VideoMembership\n"
     ]
    }
   ],
   "source": [
    "!cd"
   ]
  },
  {
   "cell_type": "code",
   "execution_count": 3,
   "metadata": {},
   "outputs": [],
   "source": [
    "from app.videos.models import Video #noqa\n",
    "from app.users.models import User #noqa\n",
    "from app.playlist.models import Playlist\n",
    "from app import db, config\n",
    "from cassandra.cqlengine.management import sync_table"
   ]
  },
  {
   "cell_type": "code",
   "execution_count": 4,
   "metadata": {},
   "outputs": [],
   "source": [
    "session = db.get_session()\n",
    "settings  = config.get_settings()\n",
    "allow_table_drop = True\n"
   ]
  },
  {
   "cell_type": "code",
   "execution_count": 5,
   "metadata": {},
   "outputs": [],
   "source": [
    "if allow_table_drop:\n",
    "    session.execute(f'DROP TABLE IF EXISTS {settings.keyspace}.playlist')"
   ]
  },
  {
   "cell_type": "code",
   "execution_count": 6,
   "metadata": {},
   "outputs": [],
   "source": [
    "sync_table(Playlist)\n",
    "sync_table(Video)"
   ]
  },
  {
   "cell_type": "code",
   "execution_count": 7,
   "metadata": {},
   "outputs": [
    {
     "data": {
      "text/plain": [
       "Playlist(db_id=UUID('971a44f6-1652-11ed-bb4b-8cb87e4c4821'), user_id=None, updated=Date(19211), host_ids=[], title='hello world')"
      ]
     },
     "execution_count": 7,
     "metadata": {},
     "output_type": "execute_result"
    }
   ],
   "source": [
    "obj = Playlist.objects.create(title='hello world')\n",
    "obj"
   ]
  },
  {
   "cell_type": "code",
   "execution_count": 8,
   "metadata": {},
   "outputs": [
    {
     "data": {
      "text/plain": [
       "Playlist(db_id=UUID('971a44f6-1652-11ed-bb4b-8cb87e4c4821'), user_id=None, updated=datetime.datetime(2022, 8, 7, 13, 12, 30, 41374), host_ids=[], title='hello world')"
      ]
     },
     "execution_count": 8,
     "metadata": {},
     "output_type": "execute_result"
    }
   ],
   "source": [
    "import datetime\n",
    "obj.updated = datetime.datetime.utcnow()\n",
    "obj.save()"
   ]
  },
  {
   "cell_type": "code",
   "execution_count": 9,
   "metadata": {},
   "outputs": [
    {
     "data": {
      "text/plain": [
       "['yJg-Y5byMMw', 'Lk8KG1T-HZ8', 'Xy7TeCdNp6k', '__CRWE-L45k', 'LHvYrn3FAgI']"
      ]
     },
     "execution_count": 9,
     "metadata": {},
     "output_type": "execute_result"
    }
   ],
   "source": [
    "host_ids = list(Video.objects.all().limit(5).values_list('host_id', flat=True))\n",
    "host_ids"
   ]
  },
  {
   "cell_type": "code",
   "execution_count": 10,
   "metadata": {},
   "outputs": [
    {
     "data": {
      "text/plain": [
       "True"
      ]
     },
     "execution_count": 10,
     "metadata": {},
     "output_type": "execute_result"
    }
   ],
   "source": [
    "obj.add_host_ids(host_ids=host_ids[:3], replace_all=True)"
   ]
  },
  {
   "cell_type": "code",
   "execution_count": 11,
   "metadata": {},
   "outputs": [
    {
     "data": {
      "text/plain": [
       "[Video(title=None, host_id=yJg-Y5byMMw, host_service=youtube),\n",
       " Video(title=space trave, host_id=Lk8KG1T-HZ8, host_service=youtube),\n",
       " Video(title=None, host_id=Xy7TeCdNp6k, host_service=youtube)]"
      ]
     },
     "execution_count": 11,
     "metadata": {},
     "output_type": "execute_result"
    }
   ],
   "source": [
    "obj.get_videos()"
   ]
  },
  {
   "cell_type": "code",
   "execution_count": null,
   "metadata": {},
   "outputs": [],
   "source": []
  }
 ],
 "metadata": {
  "kernelspec": {
   "display_name": "Python 3.9.0 ('membership': venv)",
   "language": "python",
   "name": "python3"
  },
  "language_info": {
   "codemirror_mode": {
    "name": "ipython",
    "version": 3
   },
   "file_extension": ".py",
   "mimetype": "text/x-python",
   "name": "python",
   "nbconvert_exporter": "python",
   "pygments_lexer": "ipython3",
   "version": "3.9.0"
  },
  "orig_nbformat": 4,
  "vscode": {
   "interpreter": {
    "hash": "fd8d1d8935d9efd31c4537b1f80abf4853f2b0dae65cb7217dca784f39ae3ae1"
   }
  }
 },
 "nbformat": 4,
 "nbformat_minor": 2
}
