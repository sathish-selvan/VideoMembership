{
 "cells": [
  {
   "cell_type": "code",
   "execution_count": 3,
   "id": "19e69e8f",
   "metadata": {},
   "outputs": [
    {
     "name": "stdout",
     "output_type": "stream",
     "text": [
      "C:\\Users\\sathish.t\\OneDrive - iLink Systems Inc\\Desktop\\My Codes\\FastAPI videomembership\\VideoMembership\\nbs\n"
     ]
    }
   ],
   "source": [
    "!cd"
   ]
  },
  {
   "cell_type": "code",
   "execution_count": 6,
   "id": "4a0f01f4",
   "metadata": {},
   "outputs": [
    {
     "name": "stdout",
     "output_type": "stream",
     "text": [
      "C:\\Users\\sathish.t\\OneDrive - iLink Systems Inc\\Desktop\\My Codes\\FastAPI videomembership\\VideoMembership\n"
     ]
    }
   ],
   "source": [
    "%cd .."
   ]
  },
  {
   "cell_type": "code",
   "execution_count": 7,
   "id": "08f1484f",
   "metadata": {},
   "outputs": [
    {
     "name": "stdout",
     "output_type": "stream",
     "text": [
      "C:\\Users\\sathish.t\\OneDrive - iLink Systems Inc\\Desktop\\My Codes\\FastAPI videomembership\\VideoMembership\n"
     ]
    }
   ],
   "source": [
    "!cd"
   ]
  },
  {
   "cell_type": "code",
   "execution_count": 9,
   "id": "dddbb585",
   "metadata": {},
   "outputs": [],
   "source": [
    "from app.users.models import User\n",
    "from app import db\n",
    "from cassandra.cqlengine.management import sync_table"
   ]
  },
  {
   "cell_type": "code",
   "execution_count": 10,
   "id": "f155e91e",
   "metadata": {},
   "outputs": [],
   "source": [
    "db.get_session()\n",
    "sync_table(User)"
   ]
  },
  {
   "cell_type": "code",
   "execution_count": 12,
   "id": "d0c5902e",
   "metadata": {},
   "outputs": [
    {
     "ename": "Exception",
     "evalue": "Invalid Email: The domain name gmail is not valid. It should have a period.",
     "output_type": "error",
     "traceback": [
      "\u001b[1;31m---------------------------------------------------------------------------\u001b[0m",
      "\u001b[1;31mException\u001b[0m                                 Traceback (most recent call last)",
      "Input \u001b[1;32mIn [12]\u001b[0m, in \u001b[0;36m<cell line: 1>\u001b[1;34m()\u001b[0m\n\u001b[1;32m----> 1\u001b[0m \u001b[43mUser\u001b[49m\u001b[38;5;241;43m.\u001b[39;49m\u001b[43mcreate_user\u001b[49m\u001b[43m(\u001b[49m\u001b[43memail\u001b[49m\u001b[38;5;241;43m=\u001b[39;49m\u001b[38;5;124;43m\"\u001b[39;49m\u001b[38;5;124;43mhello123@gmail\u001b[39;49m\u001b[38;5;124;43m\"\u001b[39;49m\u001b[43m,\u001b[49m\u001b[43mpassword\u001b[49m\u001b[38;5;241;43m=\u001b[39;49m\u001b[38;5;124;43m\"\u001b[39;49m\u001b[38;5;124;43m1234\u001b[39;49m\u001b[38;5;124;43m\"\u001b[39;49m\u001b[43m)\u001b[49m\n",
      "File \u001b[1;32m~\\OneDrive - iLink Systems Inc\\Desktop\\My Codes\\FastAPI videomembership\\VideoMembership\\app\\users\\models.py:38\u001b[0m, in \u001b[0;36mUser.create_user\u001b[1;34m(email, password)\u001b[0m\n\u001b[0;32m     36\u001b[0m valid,msg,email \u001b[38;5;241m=\u001b[39m validators\u001b[38;5;241m.\u001b[39m_validate_email(email\u001b[38;5;241m=\u001b[39memail)\n\u001b[0;32m     37\u001b[0m \u001b[38;5;28;01mif\u001b[39;00m \u001b[38;5;129;01mnot\u001b[39;00m valid:\n\u001b[1;32m---> 38\u001b[0m     \u001b[38;5;28;01mraise\u001b[39;00m \u001b[38;5;167;01mException\u001b[39;00m(\u001b[38;5;124mf\u001b[39m\u001b[38;5;124m\"\u001b[39m\u001b[38;5;124mInvalid Email: \u001b[39m\u001b[38;5;132;01m{\u001b[39;00mmsg\u001b[38;5;132;01m}\u001b[39;00m\u001b[38;5;124m\"\u001b[39m)\n\u001b[0;32m     39\u001b[0m q \u001b[38;5;241m=\u001b[39m User\u001b[38;5;241m.\u001b[39mobjects\u001b[38;5;241m.\u001b[39mfilter(email\u001b[38;5;241m=\u001b[39memail)\n\u001b[0;32m     40\u001b[0m \u001b[38;5;28;01mif\u001b[39;00m q\u001b[38;5;241m.\u001b[39mcount() \u001b[38;5;241m!=\u001b[39m \u001b[38;5;241m0\u001b[39m:\n",
      "\u001b[1;31mException\u001b[0m: Invalid Email: The domain name gmail is not valid. It should have a period."
     ]
    }
   ],
   "source": [
    "#\n",
    "# User.create_user(email=\"hello123@gmail.com\",password=\"1234\")"
   ]
  },
  {
   "cell_type": "code",
   "execution_count": 13,
   "id": "3ae8b93f",
   "metadata": {},
   "outputs": [
    {
     "data": {
      "text/plain": [
       "User(email=abc123@gmail.com, user_id=040e3a27-0f91-11ed-84eb-e4a8dfb56088)"
      ]
     },
     "execution_count": 13,
     "metadata": {},
     "output_type": "execute_result"
    }
   ],
   "source": [
    "User.create_user(email=\"abc123@gmail.com\",password=\"1234\")"
   ]
  },
  {
   "cell_type": "code",
   "execution_count": 17,
   "id": "f6c34dd0",
   "metadata": {},
   "outputs": [],
   "source": [
    "user = User.objects.filter(email=\"abc123@gmail.com\")"
   ]
  },
  {
   "cell_type": "code",
   "execution_count": 20,
   "id": "22588a5f",
   "metadata": {},
   "outputs": [],
   "source": [
    "for i in user:\n",
    "    user_a = i"
   ]
  },
  {
   "cell_type": "code",
   "execution_count": 23,
   "id": "91c8142a",
   "metadata": {},
   "outputs": [
    {
     "data": {
      "text/plain": [
       "False"
      ]
     },
     "execution_count": 23,
     "metadata": {},
     "output_type": "execute_result"
    }
   ],
   "source": [
    "user_a.verify_password('1d34')"
   ]
  },
  {
   "cell_type": "code",
   "execution_count": 24,
   "id": "0d09da87",
   "metadata": {},
   "outputs": [],
   "source": [
    "from pydantic import BaseModel"
   ]
  },
  {
   "cell_type": "code",
   "execution_count": null,
   "id": "0ded154a",
   "metadata": {},
   "outputs": [],
   "source": []
  }
 ],
 "metadata": {
  "kernelspec": {
   "display_name": "Python 3 (ipykernel)",
   "language": "python",
   "name": "python3"
  },
  "language_info": {
   "codemirror_mode": {
    "name": "ipython",
    "version": 3
   },
   "file_extension": ".py",
   "mimetype": "text/x-python",
   "name": "python",
   "nbconvert_exporter": "python",
   "pygments_lexer": "ipython3",
   "version": "3.9.0"
  }
 },
 "nbformat": 4,
 "nbformat_minor": 5
}
