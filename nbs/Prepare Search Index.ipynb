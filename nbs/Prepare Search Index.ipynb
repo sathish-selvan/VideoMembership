{
 "cells": [
  {
   "cell_type": "code",
   "execution_count": 1,
   "metadata": {},
   "outputs": [
    {
     "name": "stdout",
     "output_type": "stream",
     "text": [
      "c:\\Users\\sathish.t\\OneDrive - iLink Systems Inc\\Desktop\\My Codes\\FastAPI videomembership\\VideoMembership\n"
     ]
    }
   ],
   "source": [
    "%cd .."
   ]
  },
  {
   "cell_type": "code",
   "execution_count": 2,
   "metadata": {},
   "outputs": [
    {
     "name": "stdout",
     "output_type": "stream",
     "text": [
      "c:\\Users\\sathish.t\\OneDrive - iLink Systems Inc\\Desktop\\My Codes\\FastAPI videomembership\\VideoMembership\n"
     ]
    }
   ],
   "source": [
    "!cd"
   ]
  },
  {
   "cell_type": "code",
   "execution_count": 3,
   "metadata": {},
   "outputs": [],
   "source": [
    "from app.videos.models import Video #noqa\n",
    "from app.users.models import User #noqa\n",
    "from app.playlist.models import Playlist #noqa\n",
    "from app import db\n",
    "from cassandra.cqlengine.management import sync_table"
   ]
  },
  {
   "cell_type": "code",
   "execution_count": 4,
   "metadata": {},
   "outputs": [],
   "source": [
    "from app.indexing.client import get_index, update_index\n",
    "from app.indexing.schemas import *"
   ]
  },
  {
   "cell_type": "code",
   "execution_count": 5,
   "metadata": {},
   "outputs": [],
   "source": [
    "db.get_session()\n",
    "sync_table(User)\n",
    "sync_table(Playlist)\n",
    "sync_table(Video)"
   ]
  },
  {
   "cell_type": "code",
   "execution_count": 16,
   "metadata": {},
   "outputs": [],
   "source": [
    "import uuid\n",
    "import json\n",
    "from pydantic import BaseModel, Field, validator, root_validator"
   ]
  },
  {
   "cell_type": "code",
   "execution_count": 10,
   "metadata": {},
   "outputs": [
    {
     "data": {
      "text/plain": [
       "{'host_id': 'CG__N4SS1Fc',\n",
       " 'db_id': UUID('575fe5fd-1979-11ed-9e94-8cb87e4c4821'),\n",
       " 'host_service': 'youtube',\n",
       " 'title': 'html',\n",
       " 'url': 'https://www.youtube.com/watch?v=CG__N4SS1Fc',\n",
       " 'user_id': UUID('040e3a27-0f91-11ed-84eb-e4a8dfb56088')}"
      ]
     },
     "execution_count": 10,
     "metadata": {},
     "output_type": "execute_result"
    }
   ],
   "source": [
    "video_obj = dict(Video.objects.first())\n",
    "video_obj"
   ]
  },
  {
   "cell_type": "code",
   "execution_count": 17,
   "metadata": {},
   "outputs": [],
   "source": [
    "class VideoIndexSchema1(BaseModel):\n",
    "    objectID:str = Field(alias=\"host_id\")\n",
    "    title : str\n",
    "    path:str = Field(alias='host_id')\n",
    "\n",
    "    @validator('path')\n",
    "    def set_path(cls, v, values, **kwargs):\n",
    "        host_id = v\n",
    "        return f'/videos/{host_id}'"
   ]
  },
  {
   "cell_type": "code",
   "execution_count": 13,
   "metadata": {},
   "outputs": [
    {
     "data": {
      "text/plain": [
       "{'objectID': 'CG__N4SS1Fc', 'title': 'html', 'path': '/videos/CG__N4SS1Fc'}"
      ]
     },
     "execution_count": 13,
     "metadata": {},
     "output_type": "execute_result"
    }
   ],
   "source": [
    "VideoIndexSchema(**video_obj).dict()"
   ]
  },
  {
   "cell_type": "code",
   "execution_count": 11,
   "metadata": {},
   "outputs": [
    {
     "data": {
      "text/plain": [
       "{'db_id': UUID('5a382999-16fb-11ed-b0f0-8cb87e4c4821'),\n",
       " 'user_id': UUID('040e3a27-0f91-11ed-84eb-e4a8dfb56088'),\n",
       " 'updated': Date(19212),\n",
       " 'host_ids': [],\n",
       " 'title': 'kkdjk'}"
      ]
     },
     "execution_count": 11,
     "metadata": {},
     "output_type": "execute_result"
    }
   ],
   "source": [
    "playlist_obj = dict(Playlist.objects.first())\n",
    "playlist_obj"
   ]
  },
  {
   "cell_type": "code",
   "execution_count": 18,
   "metadata": {},
   "outputs": [],
   "source": [
    "class PlaylistIndexSchema1(BaseModel):\n",
    "    objectID: uuid.UUID = Field(alias='db_id')\n",
    "    title: str\n",
    "    path : uuid.UUID = Field(alias='db_id')\n",
    "\n",
    "    @validator('path')\n",
    "    def set_path(cls, v, values, **kwargs):\n",
    "        db_id = v\n",
    "        return f'/playlist/{db_id}' \n"
   ]
  },
  {
   "cell_type": "code",
   "execution_count": 6,
   "metadata": {},
   "outputs": [],
   "source": [
    "index = get_index()"
   ]
  },
  {
   "cell_type": "code",
   "execution_count": 7,
   "metadata": {},
   "outputs": [
    {
     "data": {
      "text/plain": [
       "7"
      ]
     },
     "execution_count": 7,
     "metadata": {},
     "output_type": "execute_result"
    }
   ],
   "source": [
    "updated_count = update_index()\n",
    "updated_count"
   ]
  },
  {
   "cell_type": "code",
   "execution_count": 8,
   "metadata": {},
   "outputs": [
    {
     "data": {
      "text/plain": [
       "7"
      ]
     },
     "execution_count": 8,
     "metadata": {},
     "output_type": "execute_result"
    }
   ],
   "source": [
    "updated_count"
   ]
  },
  {
   "cell_type": "code",
   "execution_count": null,
   "metadata": {},
   "outputs": [],
   "source": []
  }
 ],
 "metadata": {
  "kernelspec": {
   "display_name": "Python 3.9.0 ('membership': venv)",
   "language": "python",
   "name": "python3"
  },
  "language_info": {
   "codemirror_mode": {
    "name": "ipython",
    "version": 3
   },
   "file_extension": ".py",
   "mimetype": "text/x-python",
   "name": "python",
   "nbconvert_exporter": "python",
   "pygments_lexer": "ipython3",
   "version": "3.9.0"
  },
  "orig_nbformat": 4,
  "vscode": {
   "interpreter": {
    "hash": "fd8d1d8935d9efd31c4537b1f80abf4853f2b0dae65cb7217dca784f39ae3ae1"
   }
  }
 },
 "nbformat": 4,
 "nbformat_minor": 2
}
